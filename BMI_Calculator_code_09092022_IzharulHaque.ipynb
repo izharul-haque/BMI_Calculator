{
  "nbformat": 4,
  "nbformat_minor": 0,
  "metadata": {
    "colab": {
      "provenance": [],
      "authorship_tag": "ABX9TyN+k6jPfSFgcrPg9L//UApQ",
      "include_colab_link": true
    },
    "kernelspec": {
      "name": "python3",
      "display_name": "Python 3"
    },
    "language_info": {
      "name": "python"
    }
  },
  "cells": [
    {
      "cell_type": "markdown",
      "metadata": {
        "id": "view-in-github",
        "colab_type": "text"
      },
      "source": [
        "<a href=\"https://colab.research.google.com/github/izharul-haque/BMI_Calculator/blob/master/BMI_Calculator_code_09092022_IzharulHaque.ipynb\" target=\"_parent\"><img src=\"https://colab.research.google.com/assets/colab-badge.svg\" alt=\"Open In Colab\"/></a>"
      ]
    },
    {
      "cell_type": "markdown",
      "source": [
        "#**BMI Calculator**"
      ],
      "metadata": {
        "id": "EEgsE1IMmqww"
      }
    },
    {
      "cell_type": "markdown",
      "source": [
        "**Problem Statement** \n",
        "\n",
        "*Given the following JSON data*\n",
        "\n",
        "[{\"Gender\": \"Male\", \"HeightCm\": 171, \"WeightKg\": 96 },\n",
        "\n",
        "{ \"Gender\": \"Male\", \"HeightCm\": 161, \"WeightKg\": 85 },\n",
        "\n",
        "{ \"Gender\": \"Male\", \"HeightCm\": 180, \"WeightKg\": 77 },\n",
        "\n",
        "{ \"Gender\": \"Female\", \"HeightCm\": 166, \"WeightKg\": 62},\n",
        "\n",
        "{\"Gender\": \"Female\", \"HeightCm\": 150, \"WeightKg\": 70},\n",
        "\n",
        "{\"Gender\": \"Female\", \"HeightCm\": 167, \"WeightKg\": 82}]\n",
        "\n",
        "as the input with weight and height parameters of a person, we have to perform the following:\n",
        "\n",
        "1) Calculate the BMI (Body Mass Index) using Formula 1, BMI Category and Health risk from Table 1 of the person and add them as 3 new columns\n",
        "\n",
        "2) Count the total number of overweight people using ranges in the column BMI Category of Table 1, check this is consistent programmatically and add any other observations in the documentation\n",
        "\n",
        "3) Create build, tests to make sure the code is working as expected and this can later be added to an automation build / testing / deployment pipeline\n",
        "\n",
        "4) Write a solid production-grade Python3 Program to solve this problem, imagine this will be used in-product for 1 million patients. We are only interested in a standalone backend application, we are NOT expecting a UI, webpage, frontend, Mobile App, microsite, docker, web app etc. Simple and clean solution. Feel free to explore and use the standard Python libraries or any open source Python modules\n",
        "\n",
        "5) Check in the documentation, configuration, code and tests into github and please email us the link with the URL pattern\n",
        "https://www.github.com/<owner>/code-<date>-<your fullname> and do NOT\n",
        "use Vamstar in URL, title or description. e.g. for me it could be\n",
        "https://www.github.com/richard/code-20200917-richardfreeman\n",
        "\n",
        "Formula 1 - BMI\n",
        "\n",
        "BMI(kg/m2) = mass(kg) / height(m)2\n",
        "\n",
        "The BMI (Body Mass Index) in (kg/m2) is equal to the weight in kilograms (kg) divided by your height in meters squared (m)"
      ],
      "metadata": {
        "id": "JvWxrgdbm2_h"
      }
    },
    {
      "cell_type": "code",
      "source": [
        "# importing drive to upload dataset\n",
        "from google.colab import drive\n",
        "drive.mount('/content/gdrive')"
      ],
      "metadata": {
        "colab": {
          "base_uri": "https://localhost:8080/"
        },
        "id": "b4ffXHNUnBG4",
        "outputId": "03437493-82ac-435b-d43f-85b8fd0abc9d"
      },
      "execution_count": 366,
      "outputs": [
        {
          "output_type": "stream",
          "name": "stdout",
          "text": [
            "Drive already mounted at /content/gdrive; to attempt to forcibly remount, call drive.mount(\"/content/gdrive\", force_remount=True).\n"
          ]
        }
      ]
    },
    {
      "cell_type": "code",
      "source": [
        "# Original Json dataset\n",
        "BMI_table = [{\"Gender\": \"Male\", \"HeightCm\": 171, \"WeightKg\": 96 },\n",
        "{ \"Gender\": \"Male\", \"HeightCm\": 161, \"WeightKg\": 85 },\n",
        "{ \"Gender\": \"Male\", \"HeightCm\": 180, \"WeightKg\": 77 },\n",
        "{ \"Gender\": \"Female\", \"HeightCm\": 166, \"WeightKg\": 62},\n",
        "{\"Gender\": \"Female\", \"HeightCm\": 150, \"WeightKg\": 70},\n",
        "{\"Gender\": \"Female\", \"HeightCm\": 167, \"WeightKg\": 82}]"
      ],
      "metadata": {
        "id": "K4XYxpVznkci"
      },
      "execution_count": 368,
      "outputs": []
    },
    {
      "cell_type": "markdown",
      "source": [
        "#### **Data converted from json to excel format**"
      ],
      "metadata": {
        "id": "Yy1JwwJsnLTT"
      }
    },
    {
      "cell_type": "code",
      "source": [
        "import pandas as pd\n",
        "data = pd.read_excel('/content/gdrive/MyDrive/BMI Calculator/data.xlsx')\n",
        "data"
      ],
      "metadata": {
        "colab": {
          "base_uri": "https://localhost:8080/",
          "height": 237
        },
        "id": "wvsf71jNl97m",
        "outputId": "846b3910-ecf7-4924-c81d-002f5cb75936"
      },
      "execution_count": 367,
      "outputs": [
        {
          "output_type": "execute_result",
          "data": {
            "text/plain": [
              "    Gender  HeightCm  WeightKg\n",
              "0     Male       171        96\n",
              "1     Male       161        85\n",
              "2     Male       180        77\n",
              "3   Female       166        62\n",
              "4   Female       150        70\n",
              "5   Female       167        82"
            ],
            "text/html": [
              "\n",
              "  <div id=\"df-2499e324-9271-4921-bb22-047ff4531f5d\">\n",
              "    <div class=\"colab-df-container\">\n",
              "      <div>\n",
              "<style scoped>\n",
              "    .dataframe tbody tr th:only-of-type {\n",
              "        vertical-align: middle;\n",
              "    }\n",
              "\n",
              "    .dataframe tbody tr th {\n",
              "        vertical-align: top;\n",
              "    }\n",
              "\n",
              "    .dataframe thead th {\n",
              "        text-align: right;\n",
              "    }\n",
              "</style>\n",
              "<table border=\"1\" class=\"dataframe\">\n",
              "  <thead>\n",
              "    <tr style=\"text-align: right;\">\n",
              "      <th></th>\n",
              "      <th>Gender</th>\n",
              "      <th>HeightCm</th>\n",
              "      <th>WeightKg</th>\n",
              "    </tr>\n",
              "  </thead>\n",
              "  <tbody>\n",
              "    <tr>\n",
              "      <th>0</th>\n",
              "      <td>Male</td>\n",
              "      <td>171</td>\n",
              "      <td>96</td>\n",
              "    </tr>\n",
              "    <tr>\n",
              "      <th>1</th>\n",
              "      <td>Male</td>\n",
              "      <td>161</td>\n",
              "      <td>85</td>\n",
              "    </tr>\n",
              "    <tr>\n",
              "      <th>2</th>\n",
              "      <td>Male</td>\n",
              "      <td>180</td>\n",
              "      <td>77</td>\n",
              "    </tr>\n",
              "    <tr>\n",
              "      <th>3</th>\n",
              "      <td>Female</td>\n",
              "      <td>166</td>\n",
              "      <td>62</td>\n",
              "    </tr>\n",
              "    <tr>\n",
              "      <th>4</th>\n",
              "      <td>Female</td>\n",
              "      <td>150</td>\n",
              "      <td>70</td>\n",
              "    </tr>\n",
              "    <tr>\n",
              "      <th>5</th>\n",
              "      <td>Female</td>\n",
              "      <td>167</td>\n",
              "      <td>82</td>\n",
              "    </tr>\n",
              "  </tbody>\n",
              "</table>\n",
              "</div>\n",
              "      <button class=\"colab-df-convert\" onclick=\"convertToInteractive('df-2499e324-9271-4921-bb22-047ff4531f5d')\"\n",
              "              title=\"Convert this dataframe to an interactive table.\"\n",
              "              style=\"display:none;\">\n",
              "        \n",
              "  <svg xmlns=\"http://www.w3.org/2000/svg\" height=\"24px\"viewBox=\"0 0 24 24\"\n",
              "       width=\"24px\">\n",
              "    <path d=\"M0 0h24v24H0V0z\" fill=\"none\"/>\n",
              "    <path d=\"M18.56 5.44l.94 2.06.94-2.06 2.06-.94-2.06-.94-.94-2.06-.94 2.06-2.06.94zm-11 1L8.5 8.5l.94-2.06 2.06-.94-2.06-.94L8.5 2.5l-.94 2.06-2.06.94zm10 10l.94 2.06.94-2.06 2.06-.94-2.06-.94-.94-2.06-.94 2.06-2.06.94z\"/><path d=\"M17.41 7.96l-1.37-1.37c-.4-.4-.92-.59-1.43-.59-.52 0-1.04.2-1.43.59L10.3 9.45l-7.72 7.72c-.78.78-.78 2.05 0 2.83L4 21.41c.39.39.9.59 1.41.59.51 0 1.02-.2 1.41-.59l7.78-7.78 2.81-2.81c.8-.78.8-2.07 0-2.86zM5.41 20L4 18.59l7.72-7.72 1.47 1.35L5.41 20z\"/>\n",
              "  </svg>\n",
              "      </button>\n",
              "      \n",
              "  <style>\n",
              "    .colab-df-container {\n",
              "      display:flex;\n",
              "      flex-wrap:wrap;\n",
              "      gap: 12px;\n",
              "    }\n",
              "\n",
              "    .colab-df-convert {\n",
              "      background-color: #E8F0FE;\n",
              "      border: none;\n",
              "      border-radius: 50%;\n",
              "      cursor: pointer;\n",
              "      display: none;\n",
              "      fill: #1967D2;\n",
              "      height: 32px;\n",
              "      padding: 0 0 0 0;\n",
              "      width: 32px;\n",
              "    }\n",
              "\n",
              "    .colab-df-convert:hover {\n",
              "      background-color: #E2EBFA;\n",
              "      box-shadow: 0px 1px 2px rgba(60, 64, 67, 0.3), 0px 1px 3px 1px rgba(60, 64, 67, 0.15);\n",
              "      fill: #174EA6;\n",
              "    }\n",
              "\n",
              "    [theme=dark] .colab-df-convert {\n",
              "      background-color: #3B4455;\n",
              "      fill: #D2E3FC;\n",
              "    }\n",
              "\n",
              "    [theme=dark] .colab-df-convert:hover {\n",
              "      background-color: #434B5C;\n",
              "      box-shadow: 0px 1px 3px 1px rgba(0, 0, 0, 0.15);\n",
              "      filter: drop-shadow(0px 1px 2px rgba(0, 0, 0, 0.3));\n",
              "      fill: #FFFFFF;\n",
              "    }\n",
              "  </style>\n",
              "\n",
              "      <script>\n",
              "        const buttonEl =\n",
              "          document.querySelector('#df-2499e324-9271-4921-bb22-047ff4531f5d button.colab-df-convert');\n",
              "        buttonEl.style.display =\n",
              "          google.colab.kernel.accessAllowed ? 'block' : 'none';\n",
              "\n",
              "        async function convertToInteractive(key) {\n",
              "          const element = document.querySelector('#df-2499e324-9271-4921-bb22-047ff4531f5d');\n",
              "          const dataTable =\n",
              "            await google.colab.kernel.invokeFunction('convertToInteractive',\n",
              "                                                     [key], {});\n",
              "          if (!dataTable) return;\n",
              "\n",
              "          const docLinkHtml = 'Like what you see? Visit the ' +\n",
              "            '<a target=\"_blank\" href=https://colab.research.google.com/notebooks/data_table.ipynb>data table notebook</a>'\n",
              "            + ' to learn more about interactive tables.';\n",
              "          element.innerHTML = '';\n",
              "          dataTable['output_type'] = 'display_data';\n",
              "          await google.colab.output.renderOutput(dataTable, element);\n",
              "          const docLink = document.createElement('div');\n",
              "          docLink.innerHTML = docLinkHtml;\n",
              "          element.appendChild(docLink);\n",
              "        }\n",
              "      </script>\n",
              "    </div>\n",
              "  </div>\n",
              "  "
            ]
          },
          "metadata": {},
          "execution_count": 367
        }
      ]
    },
    {
      "cell_type": "markdown",
      "source": [
        "BMI Category BMI Range (kg/m2) Health risk\n",
        "![BMI Category Table.PNG](data:image/png;base64,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)"
      ],
      "metadata": {
        "id": "LyWtKEppp9Ym"
      }
    },
    {
      "cell_type": "markdown",
      "source": [
        "### **BMI Calculator**"
      ],
      "metadata": {
        "id": "uQPD0iGCDQyc"
      }
    },
    {
      "cell_type": "code",
      "source": [
        "# Let's Create BMI Calculator based on the above given BMI Category\n",
        "\n",
        "height = float(input(\"Please enter your height(cm):  \")) / 100\n",
        "weight = float(input(\"Please enter your weight(kg):  \"))\n",
        "print('-------------------------------------------------')\n",
        "\n",
        "\n",
        "BMI = round((weight/(height ** 2)), 2)\n",
        "\n",
        "print(f\"*BMI Calculated is:  \",BMI)\n",
        " \n",
        "if(BMI>0):\n",
        "    if(BMI<=18.4):\n",
        "        print(f\"*You're Underweight and Malnutrition risk.\")\n",
        "    elif(BMI<=24.9):\n",
        "        print(f\"*Congrats! You've Normal Weight with Low health risk.\")\n",
        "    elif(BMI<=29.9):\n",
        "        print(f\"*You're Overweight and has Enhanced risk.\")\n",
        "    elif(BMI<=34.9):\n",
        "        print(f\"*You're Moderately Obese and have medium health risk.\")\n",
        "    elif(BMI<=39.9):\n",
        "        print(f\"*You're Severely Obese and have High health risk.\")\n",
        "    else: \n",
        "        print(f\"*You are very Severely Obese and have very High health risk\")\n",
        "else:\n",
        "    print(\"Enter valid details\")"
      ],
      "metadata": {
        "colab": {
          "base_uri": "https://localhost:8080/"
        },
        "id": "i_Jlhz0YlQzl",
        "outputId": "0e7d0ee7-de47-4492-efcb-eb28c2457407"
      },
      "execution_count": 396,
      "outputs": [
        {
          "output_type": "stream",
          "name": "stdout",
          "text": [
            "Please enter your height(cm):  173\n",
            "Please enter your weight(kg):  80\n",
            "-------------------------------------------------\n",
            "*BMI Calculated is:   26.73\n",
            "*You're Overweight and has Enhanced risk.\n"
          ]
        }
      ]
    },
    {
      "cell_type": "code",
      "source": [
        "BMI_table"
      ],
      "metadata": {
        "colab": {
          "base_uri": "https://localhost:8080/"
        },
        "id": "WC2qrzB9QACf",
        "outputId": "8eeabab6-e6bd-4216-94da-36b1c0e59163"
      },
      "execution_count": 371,
      "outputs": [
        {
          "output_type": "execute_result",
          "data": {
            "text/plain": [
              "[{'Gender': 'Male', 'HeightCm': 171, 'WeightKg': 96},\n",
              " {'Gender': 'Male', 'HeightCm': 161, 'WeightKg': 85},\n",
              " {'Gender': 'Male', 'HeightCm': 180, 'WeightKg': 77},\n",
              " {'Gender': 'Female', 'HeightCm': 166, 'WeightKg': 62},\n",
              " {'Gender': 'Female', 'HeightCm': 150, 'WeightKg': 70},\n",
              " {'Gender': 'Female', 'HeightCm': 167, 'WeightKg': 82}]"
            ]
          },
          "metadata": {},
          "execution_count": 371
        }
      ]
    },
    {
      "cell_type": "markdown",
      "source": [
        "### **Adding a new column to dataset to calculate BMI**"
      ],
      "metadata": {
        "id": "C2c-h111BnGl"
      }
    },
    {
      "cell_type": "code",
      "source": [
        "data['BMI_Range'] = round(data['WeightKg'] / (data['HeightCm']**2)*10000,1)"
      ],
      "metadata": {
        "id": "2CkN1iHl-F1-"
      },
      "execution_count": 385,
      "outputs": []
    },
    {
      "cell_type": "code",
      "source": [
        "# checking the head of the dataset\n",
        "data.head()"
      ],
      "metadata": {
        "colab": {
          "base_uri": "https://localhost:8080/",
          "height": 206
        },
        "id": "7OgJ5R2b_3dW",
        "outputId": "588ff5f5-7b57-49c4-b928-5c2b18b40252"
      },
      "execution_count": 386,
      "outputs": [
        {
          "output_type": "execute_result",
          "data": {
            "text/plain": [
              "    Gender  HeightCm  WeightKg  BMI_Range\n",
              "0     Male       171        96       32.8\n",
              "1     Male       161        85       32.8\n",
              "2     Male       180        77       23.8\n",
              "3   Female       166        62       22.5\n",
              "4   Female       150        70       31.1"
            ],
            "text/html": [
              "\n",
              "  <div id=\"df-25348ffd-654a-4516-84b8-31a5f450932e\">\n",
              "    <div class=\"colab-df-container\">\n",
              "      <div>\n",
              "<style scoped>\n",
              "    .dataframe tbody tr th:only-of-type {\n",
              "        vertical-align: middle;\n",
              "    }\n",
              "\n",
              "    .dataframe tbody tr th {\n",
              "        vertical-align: top;\n",
              "    }\n",
              "\n",
              "    .dataframe thead th {\n",
              "        text-align: right;\n",
              "    }\n",
              "</style>\n",
              "<table border=\"1\" class=\"dataframe\">\n",
              "  <thead>\n",
              "    <tr style=\"text-align: right;\">\n",
              "      <th></th>\n",
              "      <th>Gender</th>\n",
              "      <th>HeightCm</th>\n",
              "      <th>WeightKg</th>\n",
              "      <th>BMI_Range</th>\n",
              "    </tr>\n",
              "  </thead>\n",
              "  <tbody>\n",
              "    <tr>\n",
              "      <th>0</th>\n",
              "      <td>Male</td>\n",
              "      <td>171</td>\n",
              "      <td>96</td>\n",
              "      <td>32.8</td>\n",
              "    </tr>\n",
              "    <tr>\n",
              "      <th>1</th>\n",
              "      <td>Male</td>\n",
              "      <td>161</td>\n",
              "      <td>85</td>\n",
              "      <td>32.8</td>\n",
              "    </tr>\n",
              "    <tr>\n",
              "      <th>2</th>\n",
              "      <td>Male</td>\n",
              "      <td>180</td>\n",
              "      <td>77</td>\n",
              "      <td>23.8</td>\n",
              "    </tr>\n",
              "    <tr>\n",
              "      <th>3</th>\n",
              "      <td>Female</td>\n",
              "      <td>166</td>\n",
              "      <td>62</td>\n",
              "      <td>22.5</td>\n",
              "    </tr>\n",
              "    <tr>\n",
              "      <th>4</th>\n",
              "      <td>Female</td>\n",
              "      <td>150</td>\n",
              "      <td>70</td>\n",
              "      <td>31.1</td>\n",
              "    </tr>\n",
              "  </tbody>\n",
              "</table>\n",
              "</div>\n",
              "      <button class=\"colab-df-convert\" onclick=\"convertToInteractive('df-25348ffd-654a-4516-84b8-31a5f450932e')\"\n",
              "              title=\"Convert this dataframe to an interactive table.\"\n",
              "              style=\"display:none;\">\n",
              "        \n",
              "  <svg xmlns=\"http://www.w3.org/2000/svg\" height=\"24px\"viewBox=\"0 0 24 24\"\n",
              "       width=\"24px\">\n",
              "    <path d=\"M0 0h24v24H0V0z\" fill=\"none\"/>\n",
              "    <path d=\"M18.56 5.44l.94 2.06.94-2.06 2.06-.94-2.06-.94-.94-2.06-.94 2.06-2.06.94zm-11 1L8.5 8.5l.94-2.06 2.06-.94-2.06-.94L8.5 2.5l-.94 2.06-2.06.94zm10 10l.94 2.06.94-2.06 2.06-.94-2.06-.94-.94-2.06-.94 2.06-2.06.94z\"/><path d=\"M17.41 7.96l-1.37-1.37c-.4-.4-.92-.59-1.43-.59-.52 0-1.04.2-1.43.59L10.3 9.45l-7.72 7.72c-.78.78-.78 2.05 0 2.83L4 21.41c.39.39.9.59 1.41.59.51 0 1.02-.2 1.41-.59l7.78-7.78 2.81-2.81c.8-.78.8-2.07 0-2.86zM5.41 20L4 18.59l7.72-7.72 1.47 1.35L5.41 20z\"/>\n",
              "  </svg>\n",
              "      </button>\n",
              "      \n",
              "  <style>\n",
              "    .colab-df-container {\n",
              "      display:flex;\n",
              "      flex-wrap:wrap;\n",
              "      gap: 12px;\n",
              "    }\n",
              "\n",
              "    .colab-df-convert {\n",
              "      background-color: #E8F0FE;\n",
              "      border: none;\n",
              "      border-radius: 50%;\n",
              "      cursor: pointer;\n",
              "      display: none;\n",
              "      fill: #1967D2;\n",
              "      height: 32px;\n",
              "      padding: 0 0 0 0;\n",
              "      width: 32px;\n",
              "    }\n",
              "\n",
              "    .colab-df-convert:hover {\n",
              "      background-color: #E2EBFA;\n",
              "      box-shadow: 0px 1px 2px rgba(60, 64, 67, 0.3), 0px 1px 3px 1px rgba(60, 64, 67, 0.15);\n",
              "      fill: #174EA6;\n",
              "    }\n",
              "\n",
              "    [theme=dark] .colab-df-convert {\n",
              "      background-color: #3B4455;\n",
              "      fill: #D2E3FC;\n",
              "    }\n",
              "\n",
              "    [theme=dark] .colab-df-convert:hover {\n",
              "      background-color: #434B5C;\n",
              "      box-shadow: 0px 1px 3px 1px rgba(0, 0, 0, 0.15);\n",
              "      filter: drop-shadow(0px 1px 2px rgba(0, 0, 0, 0.3));\n",
              "      fill: #FFFFFF;\n",
              "    }\n",
              "  </style>\n",
              "\n",
              "      <script>\n",
              "        const buttonEl =\n",
              "          document.querySelector('#df-25348ffd-654a-4516-84b8-31a5f450932e button.colab-df-convert');\n",
              "        buttonEl.style.display =\n",
              "          google.colab.kernel.accessAllowed ? 'block' : 'none';\n",
              "\n",
              "        async function convertToInteractive(key) {\n",
              "          const element = document.querySelector('#df-25348ffd-654a-4516-84b8-31a5f450932e');\n",
              "          const dataTable =\n",
              "            await google.colab.kernel.invokeFunction('convertToInteractive',\n",
              "                                                     [key], {});\n",
              "          if (!dataTable) return;\n",
              "\n",
              "          const docLinkHtml = 'Like what you see? Visit the ' +\n",
              "            '<a target=\"_blank\" href=https://colab.research.google.com/notebooks/data_table.ipynb>data table notebook</a>'\n",
              "            + ' to learn more about interactive tables.';\n",
              "          element.innerHTML = '';\n",
              "          dataTable['output_type'] = 'display_data';\n",
              "          await google.colab.output.renderOutput(dataTable, element);\n",
              "          const docLink = document.createElement('div');\n",
              "          docLink.innerHTML = docLinkHtml;\n",
              "          element.appendChild(docLink);\n",
              "        }\n",
              "      </script>\n",
              "    </div>\n",
              "  </div>\n",
              "  "
            ]
          },
          "metadata": {},
          "execution_count": 386
        }
      ]
    },
    {
      "cell_type": "code",
      "source": [
        "# creating a blank series to insert value\n",
        "\n",
        "BMI_Category =pd.Series([])\n",
        "Health_Risk =pd.Series([])\n",
        "\n",
        "for i in range(len(data)):\n",
        "    if data[\"BMI_Range\"][i] <=18.4:\n",
        "        BMI_Category[i]=\"Underweight\"\n",
        "        Health_Risk[i]=\"Malnutrition Risk\"\n",
        " \n",
        "    elif data[\"BMI_Range\"][i] <=24.9:\n",
        "        BMI_Category[i]=\"Normal\"\n",
        "        Health_Risk[i]=\"Malnutrition Risk\"\n",
        " \n",
        "    elif data[\"BMI_Range\"][i] <=29.9:\n",
        "        BMI_Category[i]=\"Overweight\"\n",
        "        Health_Risk[i]=\"Enhanced Risk\"\n",
        "\n",
        "    elif data[\"BMI_Range\"][i] <=34.9:\n",
        "        BMI_Category[i]=\"Moderately Obese\"\n",
        "        Health_Risk[i]=\"Medium Risk\"\n",
        "\n",
        "    elif data[\"BMI_Range\"][i] <=39.9:\n",
        "        BMI_Category[i]=\"Severely Obese\"\n",
        "        Health_Risk[i]=\"High Risk\"\n",
        "    \n",
        "    elif data[\"BMI_Range\"][i] >40:\n",
        "        BMI_Category[i]=\"Very Severely Obese\"\n",
        "        Health_Risk[i]=\"Very High Risk\"\n",
        " \n",
        "    else:\n",
        "        BMI_Category[i]= data[\"BMI_Range\"][i]\n",
        "        Health_Risk[i]=data[\"BMI_Range\"][i]\n"
      ],
      "metadata": {
        "colab": {
          "base_uri": "https://localhost:8080/"
        },
        "id": "YTKsdJuvv9Pe",
        "outputId": "b5b7095d-1c67-47f6-e35d-7a1c65df4dfb"
      },
      "execution_count": 389,
      "outputs": [
        {
          "output_type": "stream",
          "name": "stderr",
          "text": [
            "/usr/local/lib/python3.7/dist-packages/ipykernel_launcher.py:6: DeprecationWarning: The default dtype for empty Series will be 'object' instead of 'float64' in a future version. Specify a dtype explicitly to silence this warning.\n",
            "  \n",
            "/usr/local/lib/python3.7/dist-packages/ipykernel_launcher.py:7: DeprecationWarning: The default dtype for empty Series will be 'object' instead of 'float64' in a future version. Specify a dtype explicitly to silence this warning.\n",
            "  import sys\n"
          ]
        }
      ]
    },
    {
      "cell_type": "code",
      "source": [
        "# inserting a new column to the dataset for the values above stored\n",
        "data.insert(3, \"BMI Category\", BMI_Category)\n",
        "data.insert(5, \"Health Risk\", Health_Risk)"
      ],
      "metadata": {
        "id": "LRhSWoPU1Jtz"
      },
      "execution_count": 390,
      "outputs": []
    },
    {
      "cell_type": "code",
      "source": [
        "# final dataset\n",
        "data.head(6)"
      ],
      "metadata": {
        "colab": {
          "base_uri": "https://localhost:8080/",
          "height": 237
        },
        "id": "fwvXPLFz0kuc",
        "outputId": "b82fe3c0-58aa-46a3-a7a5-168d1ee918d9"
      },
      "execution_count": 397,
      "outputs": [
        {
          "output_type": "execute_result",
          "data": {
            "text/plain": [
              "    Gender  HeightCm  WeightKg      BMI Category  BMI_Range        Health Risk\n",
              "0     Male       171        96  Moderately Obese       32.8        Medium Risk\n",
              "1     Male       161        85  Moderately Obese       32.8        Medium Risk\n",
              "2     Male       180        77            Normal       23.8  Malnutrition Risk\n",
              "3   Female       166        62            Normal       22.5  Malnutrition Risk\n",
              "4   Female       150        70  Moderately Obese       31.1        Medium Risk\n",
              "5   Female       167        82        Overweight       29.4      Enhanced Risk"
            ],
            "text/html": [
              "\n",
              "  <div id=\"df-6df32222-5903-4e05-8fe0-f0d16dcb2f10\">\n",
              "    <div class=\"colab-df-container\">\n",
              "      <div>\n",
              "<style scoped>\n",
              "    .dataframe tbody tr th:only-of-type {\n",
              "        vertical-align: middle;\n",
              "    }\n",
              "\n",
              "    .dataframe tbody tr th {\n",
              "        vertical-align: top;\n",
              "    }\n",
              "\n",
              "    .dataframe thead th {\n",
              "        text-align: right;\n",
              "    }\n",
              "</style>\n",
              "<table border=\"1\" class=\"dataframe\">\n",
              "  <thead>\n",
              "    <tr style=\"text-align: right;\">\n",
              "      <th></th>\n",
              "      <th>Gender</th>\n",
              "      <th>HeightCm</th>\n",
              "      <th>WeightKg</th>\n",
              "      <th>BMI Category</th>\n",
              "      <th>BMI_Range</th>\n",
              "      <th>Health Risk</th>\n",
              "    </tr>\n",
              "  </thead>\n",
              "  <tbody>\n",
              "    <tr>\n",
              "      <th>0</th>\n",
              "      <td>Male</td>\n",
              "      <td>171</td>\n",
              "      <td>96</td>\n",
              "      <td>Moderately Obese</td>\n",
              "      <td>32.8</td>\n",
              "      <td>Medium Risk</td>\n",
              "    </tr>\n",
              "    <tr>\n",
              "      <th>1</th>\n",
              "      <td>Male</td>\n",
              "      <td>161</td>\n",
              "      <td>85</td>\n",
              "      <td>Moderately Obese</td>\n",
              "      <td>32.8</td>\n",
              "      <td>Medium Risk</td>\n",
              "    </tr>\n",
              "    <tr>\n",
              "      <th>2</th>\n",
              "      <td>Male</td>\n",
              "      <td>180</td>\n",
              "      <td>77</td>\n",
              "      <td>Normal</td>\n",
              "      <td>23.8</td>\n",
              "      <td>Malnutrition Risk</td>\n",
              "    </tr>\n",
              "    <tr>\n",
              "      <th>3</th>\n",
              "      <td>Female</td>\n",
              "      <td>166</td>\n",
              "      <td>62</td>\n",
              "      <td>Normal</td>\n",
              "      <td>22.5</td>\n",
              "      <td>Malnutrition Risk</td>\n",
              "    </tr>\n",
              "    <tr>\n",
              "      <th>4</th>\n",
              "      <td>Female</td>\n",
              "      <td>150</td>\n",
              "      <td>70</td>\n",
              "      <td>Moderately Obese</td>\n",
              "      <td>31.1</td>\n",
              "      <td>Medium Risk</td>\n",
              "    </tr>\n",
              "    <tr>\n",
              "      <th>5</th>\n",
              "      <td>Female</td>\n",
              "      <td>167</td>\n",
              "      <td>82</td>\n",
              "      <td>Overweight</td>\n",
              "      <td>29.4</td>\n",
              "      <td>Enhanced Risk</td>\n",
              "    </tr>\n",
              "  </tbody>\n",
              "</table>\n",
              "</div>\n",
              "      <button class=\"colab-df-convert\" onclick=\"convertToInteractive('df-6df32222-5903-4e05-8fe0-f0d16dcb2f10')\"\n",
              "              title=\"Convert this dataframe to an interactive table.\"\n",
              "              style=\"display:none;\">\n",
              "        \n",
              "  <svg xmlns=\"http://www.w3.org/2000/svg\" height=\"24px\"viewBox=\"0 0 24 24\"\n",
              "       width=\"24px\">\n",
              "    <path d=\"M0 0h24v24H0V0z\" fill=\"none\"/>\n",
              "    <path d=\"M18.56 5.44l.94 2.06.94-2.06 2.06-.94-2.06-.94-.94-2.06-.94 2.06-2.06.94zm-11 1L8.5 8.5l.94-2.06 2.06-.94-2.06-.94L8.5 2.5l-.94 2.06-2.06.94zm10 10l.94 2.06.94-2.06 2.06-.94-2.06-.94-.94-2.06-.94 2.06-2.06.94z\"/><path d=\"M17.41 7.96l-1.37-1.37c-.4-.4-.92-.59-1.43-.59-.52 0-1.04.2-1.43.59L10.3 9.45l-7.72 7.72c-.78.78-.78 2.05 0 2.83L4 21.41c.39.39.9.59 1.41.59.51 0 1.02-.2 1.41-.59l7.78-7.78 2.81-2.81c.8-.78.8-2.07 0-2.86zM5.41 20L4 18.59l7.72-7.72 1.47 1.35L5.41 20z\"/>\n",
              "  </svg>\n",
              "      </button>\n",
              "      \n",
              "  <style>\n",
              "    .colab-df-container {\n",
              "      display:flex;\n",
              "      flex-wrap:wrap;\n",
              "      gap: 12px;\n",
              "    }\n",
              "\n",
              "    .colab-df-convert {\n",
              "      background-color: #E8F0FE;\n",
              "      border: none;\n",
              "      border-radius: 50%;\n",
              "      cursor: pointer;\n",
              "      display: none;\n",
              "      fill: #1967D2;\n",
              "      height: 32px;\n",
              "      padding: 0 0 0 0;\n",
              "      width: 32px;\n",
              "    }\n",
              "\n",
              "    .colab-df-convert:hover {\n",
              "      background-color: #E2EBFA;\n",
              "      box-shadow: 0px 1px 2px rgba(60, 64, 67, 0.3), 0px 1px 3px 1px rgba(60, 64, 67, 0.15);\n",
              "      fill: #174EA6;\n",
              "    }\n",
              "\n",
              "    [theme=dark] .colab-df-convert {\n",
              "      background-color: #3B4455;\n",
              "      fill: #D2E3FC;\n",
              "    }\n",
              "\n",
              "    [theme=dark] .colab-df-convert:hover {\n",
              "      background-color: #434B5C;\n",
              "      box-shadow: 0px 1px 3px 1px rgba(0, 0, 0, 0.15);\n",
              "      filter: drop-shadow(0px 1px 2px rgba(0, 0, 0, 0.3));\n",
              "      fill: #FFFFFF;\n",
              "    }\n",
              "  </style>\n",
              "\n",
              "      <script>\n",
              "        const buttonEl =\n",
              "          document.querySelector('#df-6df32222-5903-4e05-8fe0-f0d16dcb2f10 button.colab-df-convert');\n",
              "        buttonEl.style.display =\n",
              "          google.colab.kernel.accessAllowed ? 'block' : 'none';\n",
              "\n",
              "        async function convertToInteractive(key) {\n",
              "          const element = document.querySelector('#df-6df32222-5903-4e05-8fe0-f0d16dcb2f10');\n",
              "          const dataTable =\n",
              "            await google.colab.kernel.invokeFunction('convertToInteractive',\n",
              "                                                     [key], {});\n",
              "          if (!dataTable) return;\n",
              "\n",
              "          const docLinkHtml = 'Like what you see? Visit the ' +\n",
              "            '<a target=\"_blank\" href=https://colab.research.google.com/notebooks/data_table.ipynb>data table notebook</a>'\n",
              "            + ' to learn more about interactive tables.';\n",
              "          element.innerHTML = '';\n",
              "          dataTable['output_type'] = 'display_data';\n",
              "          await google.colab.output.renderOutput(dataTable, element);\n",
              "          const docLink = document.createElement('div');\n",
              "          docLink.innerHTML = docLinkHtml;\n",
              "          element.appendChild(docLink);\n",
              "        }\n",
              "      </script>\n",
              "    </div>\n",
              "  </div>\n",
              "  "
            ]
          },
          "metadata": {},
          "execution_count": 397
        }
      ]
    },
    {
      "cell_type": "code",
      "source": [
        "# dataset data types\n",
        "data.info()"
      ],
      "metadata": {
        "colab": {
          "base_uri": "https://localhost:8080/"
        },
        "id": "xyj3a5Sz5XMU",
        "outputId": "afe9335f-d268-4802-e62b-0e0022f1e599"
      },
      "execution_count": 393,
      "outputs": [
        {
          "output_type": "stream",
          "name": "stdout",
          "text": [
            "<class 'pandas.core.frame.DataFrame'>\n",
            "RangeIndex: 6 entries, 0 to 5\n",
            "Data columns (total 6 columns):\n",
            " #   Column        Non-Null Count  Dtype  \n",
            "---  ------        --------------  -----  \n",
            " 0   Gender        6 non-null      object \n",
            " 1   HeightCm      6 non-null      int64  \n",
            " 2   WeightKg      6 non-null      int64  \n",
            " 3   BMI Category  6 non-null      object \n",
            " 4   BMI_Range     6 non-null      float64\n",
            " 5   Health Risk   6 non-null      object \n",
            "dtypes: float64(1), int64(2), object(3)\n",
            "memory usage: 416.0+ bytes\n"
          ]
        }
      ]
    }
  ]
}